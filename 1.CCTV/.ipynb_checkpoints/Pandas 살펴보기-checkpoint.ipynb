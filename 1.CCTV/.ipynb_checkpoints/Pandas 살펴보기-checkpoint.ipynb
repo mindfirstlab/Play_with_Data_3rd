{
 "cells": [
  {
   "cell_type": "code",
   "execution_count": 1,
   "metadata": {},
   "outputs": [],
   "source": [
    "import pandas as pd"
   ]
  },
  {
   "cell_type": "markdown",
   "metadata": {},
   "source": [
    "## 저장데이터 불러오기"
   ]
  },
  {
   "cell_type": "code",
   "execution_count": 2,
   "metadata": {},
   "outputs": [],
   "source": [
    "# csv 불러오기\n",
    "data = pd.read_csv('./data/01. CCTV_in_Seoul.csv',  encoding='utf-8')\n",
    "pd.read_csv"
   ]
  },
  {
   "cell_type": "markdown",
   "metadata": {},
   "source": [
    "## 살펴보기"
   ]
  },
  {
   "cell_type": "code",
   "execution_count": null,
   "metadata": {},
   "outputs": [],
   "source": [
    "# 살펴보기\n",
    "data.head()"
   ]
  },
  {
   "cell_type": "code",
   "execution_count": null,
   "metadata": {},
   "outputs": [],
   "source": [
    "data.info()"
   ]
  },
  {
   "cell_type": "code",
   "execution_count": null,
   "metadata": {
    "scrolled": true
   },
   "outputs": [],
   "source": [
    "data.describe"
   ]
  },
  {
   "cell_type": "code",
   "execution_count": null,
   "metadata": {},
   "outputs": [],
   "source": [
    "# index 보기\n",
    "data.index"
   ]
  },
  {
   "cell_type": "code",
   "execution_count": null,
   "metadata": {},
   "outputs": [],
   "source": [
    "# column 보기\n",
    "data.columns"
   ]
  },
  {
   "cell_type": "markdown",
   "metadata": {},
   "source": [
    "## 일부분 선택하기"
   ]
  },
  {
   "cell_type": "code",
   "execution_count": null,
   "metadata": {},
   "outputs": [],
   "source": [
    "# 특정 열 선택하기(1개)\n",
    "\n",
    "# data['2015년']    # pd['컬럼명']\n",
    "data.소계           # pd.컬럼명   --> 숫자로 시작하지 않을때는 사용 가능.   컬럼 값을 넣어줄 때는 사용 불가.(pd[컬럼명] =  .... 사용)\n",
    "# data.loc[:,'2015년']   # pd.loc[행지정, 열지정] (name 기준)\n",
    "# data.iloc[:, 4]        # pd.iloc[행 인덱스 지정, 열 인덱스 지정] (index 번호 기준)\n",
    "\n",
    "\n",
    "# # 특정 컬럼 선택하기(복수,범위)\n",
    "# data[['2013년도 이전','2015년']]\n",
    "# data.loc[:,['2013년도 이전','2015년']]\n",
    "# data.iloc[:, [2,4]]"
   ]
  },
  {
   "cell_type": "code",
   "execution_count": null,
   "metadata": {},
   "outputs": [],
   "source": [
    "# 특정 행 성택하기\n",
    "data.iloc[3]\n",
    "# data[0:3]\n",
    "# data.loc[0:3,:]   # 인덱스 이름 기준\n",
    "# data.iloc[0:3,:]  # 인덱스 번호 기준\n"
   ]
  },
  {
   "cell_type": "code",
   "execution_count": null,
   "metadata": {},
   "outputs": [],
   "source": [
    "data.set_index('기관명', inplace = True)"
   ]
  },
  {
   "cell_type": "code",
   "execution_count": null,
   "metadata": {},
   "outputs": [],
   "source": [
    "data.head()"
   ]
  },
  {
   "cell_type": "code",
   "execution_count": null,
   "metadata": {},
   "outputs": [],
   "source": [
    "# 특정 행, 특정열 선택하기(범위 지정)   \n",
    "# loc[행지정/열지정]   구간지정시 시작:끝,    개별 지정시[선택1,선택2,선택3....]\n",
    "data.loc['강동구':'관악구', ['2014년','2016년']]\n",
    "data.loc[['강동구','마포구'],['2014년','2016년']]\n",
    "# data.iloc[1:4,[2,4]]\n",
    "# data.iloc[[1,2,4],[2,4]]"
   ]
  },
  {
   "cell_type": "code",
   "execution_count": null,
   "metadata": {
    "scrolled": true
   },
   "outputs": [],
   "source": [
    "# 특정 조건 만족하는 데이터 선택하기\n",
    "# pd[원하는 조건식] ==>  조건식이 True 에 해당하는 행 가지고 옴\n",
    "\n",
    "data[data.소계 > 2000]\n"
   ]
  },
  {
   "cell_type": "code",
   "execution_count": null,
   "metadata": {},
   "outputs": [],
   "source": [
    "data[data['소계'].isin([2780,'118','마포'])]\n",
    "data[data.index.isin([2780,'118','마포구'])]"
   ]
  },
  {
   "cell_type": "markdown",
   "metadata": {},
   "source": [
    "## 컬럼 추가 / 연산하기"
   ]
  },
  {
   "cell_type": "code",
   "execution_count": null,
   "metadata": {},
   "outputs": [],
   "source": [
    "# 컬럼 추가하기\n",
    "data['3개년평균'] = (data['2014년']+data['2015년'] + data['2016년'])/3\n",
    "# data.3개년평균 으로 쓸 수 없음..   값 입력시에는 사용 불가. \n",
    "data.head()"
   ]
  },
  {
   "cell_type": "markdown",
   "metadata": {},
   "source": [
    "## 컬럼명 / 인덱스 수정하기\n"
   ]
  },
  {
   "cell_type": "code",
   "execution_count": null,
   "metadata": {
    "scrolled": true
   },
   "outputs": [],
   "source": [
    "data.columns"
   ]
  },
  {
   "cell_type": "code",
   "execution_count": null,
   "metadata": {},
   "outputs": [],
   "source": [
    "data.index.name"
   ]
  },
  {
   "cell_type": "code",
   "execution_count": null,
   "metadata": {},
   "outputs": [],
   "source": [
    "data.index.name = '구별'"
   ]
  },
  {
   "cell_type": "code",
   "execution_count": null,
   "metadata": {},
   "outputs": [],
   "source": [
    "data.head()"
   ]
  },
  {
   "cell_type": "markdown",
   "metadata": {},
   "source": [
    "## 데이터 합치기"
   ]
  },
  {
   "cell_type": "code",
   "execution_count": null,
   "metadata": {},
   "outputs": [],
   "source": [
    "data = pd.read_csv('./data/01. CCTV_in_Seoul.csv',  encoding='utf-8')\n",
    "data = data[data['기관명'].isin(['용산구','마포구','강동구','강남구'])]"
   ]
  },
  {
   "cell_type": "code",
   "execution_count": null,
   "metadata": {},
   "outputs": [],
   "source": [
    "data.head()"
   ]
  },
  {
   "cell_type": "code",
   "execution_count": null,
   "metadata": {},
   "outputs": [],
   "source": [
    "data2 = pd.read_excel('./data/01. population_in_Seoul.xls', encoding='utf-8', header = 2)\n",
    "data2 = data2[data2['자치구'].isin(['강남구','강동구','동작구','강서구','중구'])]"
   ]
  },
  {
   "cell_type": "code",
   "execution_count": null,
   "metadata": {},
   "outputs": [],
   "source": [
    "data2.head()"
   ]
  },
  {
   "cell_type": "code",
   "execution_count": null,
   "metadata": {
    "scrolled": true
   },
   "outputs": [],
   "source": [
    "#pd.merge(데이터1, 데이터2, \n",
    "#               left_on = '데이터1 기준 컬럼', right_on = '데이터2 기준 컬럼  \n",
    "#                on = '데이터1 / 2  동일 이름의 컬럼'\n",
    "#                left_index = True,   right_index = True   --> index 를 기준으로 합칠때. \n",
    "#                how = 'left','right','inner', 'outer')\n",
    "\n",
    "data_left = pd.merge(data, data2, left_on='기관명', right_on = '자치구', how = 'left')  \n",
    "data_left.head()"
   ]
  },
  {
   "cell_type": "code",
   "execution_count": null,
   "metadata": {},
   "outputs": [],
   "source": [
    "data_left = pd.merge(data, data2, left_on='기관명', right_on = '자치구', how = 'right')  \n",
    "data_left.head()"
   ]
  },
  {
   "cell_type": "code",
   "execution_count": null,
   "metadata": {},
   "outputs": [],
   "source": [
    "data_left = pd.merge(data, data2, left_on='기관명', right_on = '자치구', how = 'inner')  \n",
    "data_left.head()"
   ]
  },
  {
   "cell_type": "code",
   "execution_count": null,
   "metadata": {},
   "outputs": [],
   "source": [
    "data_left = pd.merge(data, data2, left_on='기관명', right_on = '자치구', how = 'outer')  \n",
    "data_left.head()"
   ]
  },
  {
   "cell_type": "code",
   "execution_count": null,
   "metadata": {},
   "outputs": [],
   "source": []
  }
 ],
 "metadata": {
  "kernelspec": {
   "display_name": "Python 3",
   "language": "python",
   "name": "python3"
  },
  "language_info": {
   "codemirror_mode": {
    "name": "ipython",
    "version": 3
   },
   "file_extension": ".py",
   "mimetype": "text/x-python",
   "name": "python",
   "nbconvert_exporter": "python",
   "pygments_lexer": "ipython3",
   "version": "3.6.4"
  }
 },
 "nbformat": 4,
 "nbformat_minor": 2
}
