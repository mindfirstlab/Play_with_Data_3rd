{
 "cells": [
  {
   "cell_type": "markdown",
   "metadata": {},
   "source": [
    "# 서울 구별 CCTV 현황 분석\n",
    " - 구별 CCTV 수 파악\n",
    " - 구별 인구수 파악\n",
    " - 인구와 CCTV 상관관계 분석 --> 인구대비 CCTV 비율 점검\n",
    " - 시각화\n",
    " \n",
    " - ※ Pandas 사용법"
   ]
  },
  {
   "cell_type": "code",
   "execution_count": null,
   "metadata": {},
   "outputs": [],
   "source": [
    "import pandas as pd"
   ]
  },
  {
   "cell_type": "markdown",
   "metadata": {},
   "source": [
    "### 1. CCTV "
   ]
  },
  {
   "cell_type": "code",
   "execution_count": null,
   "metadata": {},
   "outputs": [],
   "source": [
    "# 데이터 불러오기   from   http://data.seoul.go.kr/ 서울 열린데이터광장"
   ]
  },
  {
   "cell_type": "code",
   "execution_count": null,
   "metadata": {},
   "outputs": [],
   "source": [
    "CCTV_Seoul = pd.read_csv('./data/01. CCTV_in_Seoul.csv',  encoding='utf-8')\n",
    "# 파일경로 위치 확인 필요   ../  Vs  ./ \n",
    "CCTV_Seoul.head()"
   ]
  },
  {
   "cell_type": "code",
   "execution_count": null,
   "metadata": {},
   "outputs": [],
   "source": [
    "CCTV_Seoul.columns"
   ]
  },
  {
   "cell_type": "code",
   "execution_count": null,
   "metadata": {
    "scrolled": true
   },
   "outputs": [],
   "source": [
    "CCTV_Seoul.columns = ['구별', '소계', '2013년도 이전', '2014년', '2015년', '2016년']\n",
    "CCTV_Seoul.head()"
   ]
  },
  {
   "cell_type": "code",
   "execution_count": null,
   "metadata": {},
   "outputs": [],
   "source": [
    "CCTV_Seoul.head()"
   ]
  },
  {
   "cell_type": "code",
   "execution_count": null,
   "metadata": {},
   "outputs": [],
   "source": [
    "# 데이터 살펴보기"
   ]
  },
  {
   "cell_type": "code",
   "execution_count": null,
   "metadata": {
    "scrolled": true
   },
   "outputs": [],
   "source": [
    "CCTV_Seoul.sort_values(by='소계', ascending=False).head()"
   ]
  },
  {
   "cell_type": "code",
   "execution_count": null,
   "metadata": {},
   "outputs": [],
   "source": [
    "# CCTV 증가율 넣기... ????"
   ]
  },
  {
   "cell_type": "code",
   "execution_count": null,
   "metadata": {},
   "outputs": [],
   "source": [
    "# 교재버전\n",
    "CCTV_Seoul['최근증가율'] = (CCTV_Seoul['2016년'] + CCTV_Seoul['2015년'] + \\\n",
    "                        CCTV_Seoul['2014년']) / CCTV_Seoul['2013년도 이전']  * 100\n",
    "CCTV_Seoul.sort_values(by='최근증가율', ascending=False).head()"
   ]
  },
  {
   "cell_type": "code",
   "execution_count": null,
   "metadata": {},
   "outputs": [],
   "source": [
    "# 함수로 만들기\n",
    "def growing(x):\n",
    "    return (x[3]+x[4]+x[5])/x[2] *100\n",
    "\n",
    "CCTV_Seoul['최근증가율'] = CCTV_Seoul.apply(growing, axis=1)\n",
    "CCTV_Seoul.sort_values(by='최근증가율', ascending=False).head()"
   ]
  },
  {
   "cell_type": "code",
   "execution_count": null,
   "metadata": {
    "scrolled": false
   },
   "outputs": [],
   "source": [
    "# 람다 함수로 만들기\n",
    "CCTV_Seoul['최근증가율'] = CCTV_Seoul.apply(lambda x: (x[3]+x[4]+x[5])/x[2] * 100, axis = 1)\n",
    "CCTV_Seoul.sort_values(by='최근증가율', ascending=False).head()"
   ]
  },
  {
   "cell_type": "markdown",
   "metadata": {},
   "source": [
    "### 2. 서울시 인구현황"
   ]
  },
  {
   "cell_type": "code",
   "execution_count": null,
   "metadata": {},
   "outputs": [],
   "source": [
    "# 데이터 불러오기"
   ]
  },
  {
   "cell_type": "code",
   "execution_count": null,
   "metadata": {},
   "outputs": [],
   "source": [
    "pop_Seoul = pd.read_excel('./data/01. population_in_Seoul.xls', encoding='utf-8')\n",
    "pop_Seoul.head()"
   ]
  },
  {
   "cell_type": "code",
   "execution_count": null,
   "metadata": {},
   "outputs": [],
   "source": [
    "pop_Seoul = pd.read_excel('./data/01. population_in_Seoul.xls',\n",
    "                         header = 2, # 행 번호 header 기준 지정. 기본값 0, 없을경우 None 으로 입력\n",
    "                         encoding='utf-8')\n",
    "                        # 교재에서는 parse_cols = 'B,D,G,J,N'  옵션 사용하여 B,D,G,J,N 열만 가지고옴\n",
    "pop_Seoul.head()"
   ]
  },
  {
   "cell_type": "code",
   "execution_count": null,
   "metadata": {},
   "outputs": [],
   "source": [
    "pop_Seoul.columns"
   ]
  },
  {
   "cell_type": "code",
   "execution_count": null,
   "metadata": {
    "scrolled": true
   },
   "outputs": [],
   "source": [
    "# 구별 인구수 / 한국인수 / 외국인수 / 고령자수 만 가져오기\n",
    "\n",
    "# pd.loc[행이름,열이름]  Vs  pd.iloc[행index, 열index]\n",
    "\n",
    "Check = pop_Seoul.loc[:,['자치구','계','계.1','계.2','65세이상고령자']]\n",
    "# Check = pop_Seoul.iloc[:,[1,3,6,9,-1]]\n",
    "\n",
    "Check.head()"
   ]
  },
  {
   "cell_type": "code",
   "execution_count": null,
   "metadata": {
    "scrolled": true
   },
   "outputs": [],
   "source": [
    "pop_Seoul = pop_Seoul.loc[:,['자치구','계','계.1','계.2','65세이상고령자']]\n",
    "pop_Seoul.columns = ['구별','인구수','한국인','외국인','고령자']\n",
    "\n",
    "# pop_Seoul.rename(columns={pop_Seoul.columns[0] : '구별', \n",
    "#                           pop_Seoul.columns[1] : '인구수', \n",
    "#                           pop_Seoul.columns[2] : '한국인', \n",
    "#                           pop_Seoul.columns[3] : '외국인', \n",
    "#                           pop_Seoul.columns[4] : '고령자'}, inplace=True)\n",
    "\n",
    "\n",
    "pop_Seoul.head()"
   ]
  },
  {
   "cell_type": "code",
   "execution_count": null,
   "metadata": {},
   "outputs": [],
   "source": [
    "# 살펴보기"
   ]
  },
  {
   "cell_type": "code",
   "execution_count": null,
   "metadata": {},
   "outputs": [],
   "source": [
    "pop_Seoul.drop(0, inplace=True)  # 0번 행렬 \"합계\" 삭제하기\n",
    "pop_Seoul.head()"
   ]
  },
  {
   "cell_type": "code",
   "execution_count": null,
   "metadata": {},
   "outputs": [],
   "source": [
    "? pop_Seoul.drop"
   ]
  },
  {
   "cell_type": "code",
   "execution_count": null,
   "metadata": {},
   "outputs": [],
   "source": [
    "pop_Seoul['구별'].unique()"
   ]
  },
  {
   "cell_type": "code",
   "execution_count": null,
   "metadata": {},
   "outputs": [],
   "source": [
    "pop_Seoul['구별'].notnull()"
   ]
  },
  {
   "cell_type": "code",
   "execution_count": null,
   "metadata": {
    "scrolled": true
   },
   "outputs": [],
   "source": [
    "# NA 데이터 삭제하기\n",
    "\n",
    "# dropna로 선택\n",
    "pop_Seoul.dropna(subset=['구별'], axis=0, inplace = True)    # axis = 0  행,  axis = 1  열\n",
    "\n",
    "#notnull로 선택\n",
    "pop_Seoul= pop_Seoul[pop_Seoul['구별'].notnull()]    # DataFrame[True/False]\n",
    "\n",
    "# 교재 방법\n",
    "# pop_Seoul.drop([26], inplace=True)\n",
    "pop_Seoul.head()"
   ]
  },
  {
   "cell_type": "code",
   "execution_count": null,
   "metadata": {
    "scrolled": true
   },
   "outputs": [],
   "source": [
    "pop_Seoul[['구별','인구수']]\n",
    "pop_Seoul.loc[:,['구별','인구수']]"
   ]
  },
  {
   "cell_type": "code",
   "execution_count": null,
   "metadata": {},
   "outputs": [],
   "source": [
    "pop_Seoul['외국인비율'] = pop_Seoul['외국인'] / pop_Seoul['인구수'] *100\n",
    "pop_Seoul['고령자비율'] = pop_Seoul['고령자'] / pop_Seoul['인구수'] *100\n",
    "pop_Seoul.head()"
   ]
  },
  {
   "cell_type": "markdown",
   "metadata": {},
   "source": [
    "### 3. CCTV 데이터 + 인구데이터"
   ]
  },
  {
   "cell_type": "code",
   "execution_count": null,
   "metadata": {},
   "outputs": [],
   "source": [
    "#데이터 합치기\n",
    "data_result = pd.merge(CCTV_Seoul, pop_Seoul, on='구별')\n",
    "data_result.head()"
   ]
  },
  {
   "cell_type": "code",
   "execution_count": null,
   "metadata": {},
   "outputs": [],
   "source": [
    "# 불필요할 한 열 삭제\n",
    "data_result.columns"
   ]
  },
  {
   "cell_type": "code",
   "execution_count": null,
   "metadata": {},
   "outputs": [],
   "source": [
    "data_result = data_result[['구별', '소계', '최근증가율', '인구수', '한국인', '외국인', '고령자', '외국인비율', '고령자비율']]\n",
    "# del 활용 가능:  del data_result[열 이름]"
   ]
  },
  {
   "cell_type": "code",
   "execution_count": null,
   "metadata": {},
   "outputs": [],
   "source": [
    "data_result.head()"
   ]
  },
  {
   "cell_type": "code",
   "execution_count": null,
   "metadata": {},
   "outputs": [],
   "source": [
    "# index 만들어주기"
   ]
  },
  {
   "cell_type": "code",
   "execution_count": null,
   "metadata": {
    "scrolled": true
   },
   "outputs": [],
   "source": [
    "# index 값 지정 --> 추가로 생성\n",
    "data_result.index = data_result['구별']  # '구별' 값과 동일하게 인덱스 변경\n",
    "data_result.head()"
   ]
  },
  {
   "cell_type": "code",
   "execution_count": null,
   "metadata": {},
   "outputs": [],
   "source": [
    "# set_index: 기존 column 값 --> index 로 지정\n",
    "data_result.set_index('구별', inplace=True)    # '구별' 열을 인덱스로 설정\n",
    "data_result.head()"
   ]
  },
  {
   "cell_type": "code",
   "execution_count": null,
   "metadata": {},
   "outputs": [],
   "source": [
    "# 변수간 관계 살펴보기: 상관관계"
   ]
  },
  {
   "cell_type": "code",
   "execution_count": null,
   "metadata": {},
   "outputs": [],
   "source": [
    "import numpy as np"
   ]
  },
  {
   "cell_type": "code",
   "execution_count": null,
   "metadata": {},
   "outputs": [],
   "source": [
    "# numpy 활용하기\n",
    "print(\"고령자비율 Vs CCTV\\n\", np.corrcoef(data_result['고령자비율'],data_result['소계']))\n",
    "print(\"\\n\\n외국인비율 Vs CCTV\\n\", np.corrcoef(data_result['외국인비율'],data_result['소계']))\n",
    "print(\"\\n\\n인구수 Vs CCTV\\n\", np.corrcoef(data_result['인구수'],data_result['소계']))"
   ]
  },
  {
   "cell_type": "code",
   "execution_count": null,
   "metadata": {},
   "outputs": [],
   "source": [
    "# Pandas 에서 변수간 상관계수 구하기  (연속형만 가능)\n",
    "data_result.corr()"
   ]
  },
  {
   "cell_type": "code",
   "execution_count": null,
   "metadata": {},
   "outputs": [],
   "source": [
    "# 인구수와 CCTV 상관관계 있음?"
   ]
  },
  {
   "cell_type": "code",
   "execution_count": null,
   "metadata": {},
   "outputs": [],
   "source": [
    "data_result.sort_values(by='인구수', ascending=False).head(10)"
   ]
  },
  {
   "cell_type": "markdown",
   "metadata": {},
   "source": [
    "### 4. 시각화"
   ]
  },
  {
   "cell_type": "code",
   "execution_count": null,
   "metadata": {},
   "outputs": [],
   "source": [
    "import matplotlib.pyplot as plt\n",
    "%matplotlib inline"
   ]
  },
  {
   "cell_type": "code",
   "execution_count": null,
   "metadata": {},
   "outputs": [],
   "source": [
    "import platform\n",
    "\n",
    "from matplotlib import font_manager, rc\n",
    "plt.rcParams['axes.unicode_minus'] = False\n",
    "\n",
    "if platform.system() == 'Darwin':\n",
    "    rc('font', family='AppleGothic')\n",
    "elif platform.system() == 'Windows':\n",
    "    path = \"c:/Windows/Fonts/malgun.ttf\"\n",
    "    font_name = font_manager.FontProperties(fname=path).get_name()\n",
    "    rc('font', family=font_name)\n",
    "else:\n",
    "    print('Unknown system... sorry~~~~') "
   ]
  },
  {
   "cell_type": "code",
   "execution_count": null,
   "metadata": {
    "scrolled": true
   },
   "outputs": [],
   "source": [
    "data_result['소계'].plot(kind='barh',grid=True, figsize=(10,10))"
   ]
  },
  {
   "cell_type": "code",
   "execution_count": null,
   "metadata": {},
   "outputs": [],
   "source": [
    "data_result['소계'].sort_values().plot(kind='barh',grid=True, figsize=(10,10))"
   ]
  },
  {
   "cell_type": "code",
   "execution_count": null,
   "metadata": {
    "scrolled": true
   },
   "outputs": [],
   "source": [
    "# 인구대비 CCTV비율\n",
    "\n",
    "data_result['CCTV비율'] = data_result.소계 / data_result.인구수*100   # 비율???  기준 시점 다름......\n",
    "data_result.CCTV비율.sort_values().plot(kind='barh', grid=True, figsize=(10,10))"
   ]
  },
  {
   "cell_type": "code",
   "execution_count": null,
   "metadata": {},
   "outputs": [],
   "source": [
    "? plt.plot"
   ]
  },
  {
   "cell_type": "code",
   "execution_count": null,
   "metadata": {},
   "outputs": [],
   "source": [
    "# scatter \n",
    "plt.scatter(data_result.인구수, data_result.소계, s=50)\n",
    "plt.xlabel('인구수')\n",
    "plt.ylabel('CCTV')\n",
    "plt.grid()"
   ]
  },
  {
   "cell_type": "code",
   "execution_count": null,
   "metadata": {},
   "outputs": [],
   "source": [
    "# 1차원 회귀식 만들기\n",
    "fp1 = np.polyfit(data_result.인구수, data_result.소계, 1)   #  마지막 1은 1차 방정식을 의미\n",
    "fp1 \n",
    "\n",
    "# array([  1.30916415e-03,   6.45066497e+02])\n",
    "# ==>  1차항 계수 1.30916415e-03 = 0.00130916415   /     상수항 : 6.45066497+02 = 645.066497"
   ]
  },
  {
   "cell_type": "code",
   "execution_count": null,
   "metadata": {
    "scrolled": true
   },
   "outputs": [],
   "source": [
    "1.30916415e-03*1"
   ]
  },
  {
   "cell_type": "code",
   "execution_count": null,
   "metadata": {},
   "outputs": [],
   "source": [
    "6.45066497e+02"
   ]
  },
  {
   "cell_type": "code",
   "execution_count": null,
   "metadata": {},
   "outputs": [],
   "source": [
    "f1 = np.poly1d(fp1)               # poly1d([1, 2, 3])  =  x^2 + 2x + 3,\n",
    "fx = np.linspace(100000,700000,100)    #   np.linspace(시작, 끝, 구간수) "
   ]
  },
  {
   "cell_type": "code",
   "execution_count": null,
   "metadata": {},
   "outputs": [],
   "source": [
    "print(len(np.linspace(100000,700000,100)))\n",
    "np.linspace(100000,700000,100)"
   ]
  },
  {
   "cell_type": "code",
   "execution_count": null,
   "metadata": {},
   "outputs": [],
   "source": [
    "print(f1(1))    # 1.30916415e-03*1 + 6.45066497e+02\n",
    "print(f1(100000))\n",
    "print(f1(700000))"
   ]
  },
  {
   "cell_type": "code",
   "execution_count": null,
   "metadata": {},
   "outputs": [],
   "source": [
    "plt.scatter(data_result.인구수, data_result.소계, s=50)\n",
    "plt.plot(fx,f1(fx), ls='dashed', lw=3, color='g')   # ls = line shape,    lw : line width?,   \n",
    "plt.xlabel('인구수')\n",
    "plt.ylabel('CCTV')\n",
    "plt.grid()"
   ]
  },
  {
   "cell_type": "code",
   "execution_count": null,
   "metadata": {},
   "outputs": [],
   "source": [
    "# 오차 표시하기"
   ]
  },
  {
   "cell_type": "code",
   "execution_count": null,
   "metadata": {},
   "outputs": [],
   "source": [
    "data_result['오차'] = f1(data_result.인구수) - data_result.소계\n",
    "data_result.head()"
   ]
  },
  {
   "cell_type": "code",
   "execution_count": null,
   "metadata": {},
   "outputs": [],
   "source": [
    "# 오차 절대값\n",
    "data_result['오차'] = abs(f1(data_result.인구수) - data_result.소계)\n",
    "# 교재 에서는 np.abs(f1(data_result['인구수']) - data_result['소계'])\n",
    "data_result.head()"
   ]
  },
  {
   "cell_type": "code",
   "execution_count": null,
   "metadata": {
    "scrolled": true
   },
   "outputs": [],
   "source": [
    "# \n",
    "\n",
    "df_sort = data_result.sort_values(by='오차', ascending = False)  # 오차 큰 순서대로\n",
    "\n",
    "plt.figure(figsize = (14,10))\n",
    "plt.scatter(data_result.인구수, data_result.소계, s=50, c=data_result.오차)   # c = 색상\n",
    "plt.plot(fx,f1(fx), ls='dashed', lw=3, color = 'g')   # ls = line shape,    lw : line width?,   \n",
    "\n",
    "for n in range(10):   # 오차 상위 10개 구에 대해서 구 이름 표시하기\n",
    "    plt.text(df_sort['인구수'][n]*1.02, df_sort['소계'][n]*0.98, df_sort.index[n], fontsize=15)  # index(구 이름) 을 표시하라. \n",
    "\n",
    "plt.xlabel('인구수')\n",
    "plt.ylabel('CCTV')\n",
    "plt.grid()\n",
    "plt.colorbar()\n"
   ]
  },
  {
   "cell_type": "markdown",
   "metadata": {},
   "source": [
    "## 느낀점.\n",
    " - 엑셀로 하면 참 짧은 내용인데....\n",
    " - 인구 비율? CCTV ??  :  동일 기간 x.  상관관계가 의미있을까??\n",
    " \n",
    " \n",
    " ### 실습)  1인가구 Vs CCTV    도 한번 살펴볼까요?? "
   ]
  },
  {
   "cell_type": "code",
   "execution_count": null,
   "metadata": {},
   "outputs": [],
   "source": [
    "Seoul_1P = pd.read_csv('./data/01. people_in_seoul_2016.csv',  encoding='euc-kr')\n",
    "Seoul_1P.head()"
   ]
  },
  {
   "cell_type": "code",
   "execution_count": null,
   "metadata": {},
   "outputs": [],
   "source": []
  }
 ],
 "metadata": {
  "kernelspec": {
   "display_name": "Python 3",
   "language": "python",
   "name": "python3"
  },
  "language_info": {
   "codemirror_mode": {
    "name": "ipython",
    "version": 3
   },
   "file_extension": ".py",
   "mimetype": "text/x-python",
   "name": "python",
   "nbconvert_exporter": "python",
   "pygments_lexer": "ipython3",
   "version": "3.6.4"
  }
 },
 "nbformat": 4,
 "nbformat_minor": 2
}
