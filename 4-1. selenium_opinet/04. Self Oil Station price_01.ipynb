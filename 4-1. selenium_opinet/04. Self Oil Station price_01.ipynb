{
 "cells": [
  {
   "cell_type": "markdown",
   "metadata": {},
   "source": [
    "# 4-1 selenium 사용\n",
    "* BeautifulSoup 으로만 접근할 수 없는 인터넷의 정보에 selenium 이 필요 \n",
    "* 지역 정보를 선택하고 조회버튼을 누르는 등 액션을 했을 때, 웹 브라우져 상의 주소가 바뀌지 않는 경우 ex) http://www.opinet.co.kr/searRgSelect.do"
   ]
  },
  {
   "cell_type": "code",
   "execution_count": 12,
   "metadata": {},
   "outputs": [],
   "source": [
    "from selenium import webdriver "
   ]
  },
  {
   "cell_type": "code",
   "execution_count": 14,
   "metadata": {},
   "outputs": [],
   "source": [
    "driver = webdriver.Chrome('../4-1. selenium_opinet/chromedriver_win32/chromedriver.exe')"
   ]
  },
  {
   "cell_type": "code",
   "execution_count": 15,
   "metadata": {},
   "outputs": [],
   "source": [
    "driver.get('https://www.naver.com')"
   ]
  },
  {
   "cell_type": "code",
   "execution_count": 16,
   "metadata": {},
   "outputs": [
    {
     "name": "stderr",
     "output_type": "stream",
     "text": [
      "C:\\Users\\Sangwook\\Anaconda3\\lib\\site-packages\\selenium\\webdriver\\remote\\webdriver.py:882: UserWarning: name used for saved screenshot does not match file type. It should end with a `.png` extension\n",
      "  \"type. It should end with a `.png` extension\", UserWarning)\n"
     ]
    },
    {
     "data": {
      "text/plain": [
       "True"
      ]
     },
     "execution_count": 16,
     "metadata": {},
     "output_type": "execute_result"
    }
   ],
   "source": [
    "driver.save_screenshot('../4-1. selenium_opinet/images/001.jpg')"
   ]
  },
  {
   "cell_type": "markdown",
   "metadata": {},
   "source": [
    "## HTML 기초 : element, attribute 소개 \n",
    "* HTML 은 \"<\" 로 시작해서 \">\"로 끝나는 태그를 통해 작성 \n",
    "    - '열리는 태그', '닫히는 태그'로 이루어진 태그  ex> <tag\\>ABC </tag\\>\n",
    "    - '스스로 닫는 태그'  ex> <br /\\>, <img /\\>\n",
    "<br/>\n",
    "    \n",
    "    \n",
    "* 기본적인 HTML 태그 구조는 html, head, title, body 의 구조를 가진다. \n",
    "    - html : 눈에 보이는 한 페이지를 가르키는 영역 \n",
    "    - head: 각종 설정을 포함하는 정보\n",
    "    - title: 인터넷 익스플로러 탭에 나타나는 제목 \n",
    "    - body: 실제 홈페이지의 내용을 작성하는 영역 \n",
    "<br/>\n",
    "    \n",
    "    \n",
    "* <img src=\"http://www.naver.com/sample.png\" alt=\"샘플 이미지\" /\\>\n",
    "    - img: \"태그\" 이자, \"element(요소)\"\n",
    "    - src, alt: attribute(속성)\n",
    "    - 태그의 구성\n",
    "        - <요소 속성=\"속성값\" /\\> \n",
    "        - <요소 속성=\"속성값\"\\> 내용 </요소\\>\n",
    "<br/>\n",
    "\n",
    "\n",
    "* html: id, class, name 속성의 차이 \n",
    "\n",
    "| id  | class | name |\n",
    "|:---:|:---:|:---:|\n",
    "| 하나의 요소만 가능(페이지 유일) | 여러 요소 적용 가능 | 여러 요소 적용 가능 |\n",
    "| CSS에서 식별자로 사용 가능 | CSS에서 식별자로 사용 가능 | CSS에서 사용 불가(같은 이름이 여러개 존재 가능)|\n",
    "| jQuery: \\$(\"#아이디\") | jQuery: \\$(\".클래스명\") | jQuery: \\$(\"input[name=이름]\")|\n",
    "\n",
    "\n",
    "\n",
    "* id, class 간 차이 \n",
    "    - CSS 측면에서 상단, 컨텐츠, 하단 으로 나눌 경우 페이지 내에서 하나씩 존재 > id \n",
    "    - 게시물 추출 내용에 CSS 부여하고 싶을 경우 > class \n",
    "<br/>\n",
    "   \n",
    "   \n",
    "* CSS(Cascading Style Sheets)란? \n",
    "    - HTML, XHTML, XML 같은 문서의 스타일을 꾸밀 때 사용하는 스타일 시트 언어 \n",
    "    - HTML 로 문서의 뼈대를 만들면 CSS는 이를 꾸미는 역할을 한다 \n",
    "        ex) 글꼴, 배경색, 너비, 높이, 위치 등을 지정하거나, 웹 브라우저, 스크린 크기, 장치에 따라 화면이 다르게 표현하는 등 \n",
    "    - CSS 장점 \n",
    "        - HTML을 통해 문서의 뼈대도 만들고 꾸밈을 만들 경우, 모든 문서를 하나씩 수정해야 함 \n",
    "        - CSS는 문서의 내용(contents)와 표현(presentation)을 분리하여, CSS 파일 하나만 수정하면 스타일에 해당하는 HTML 문서가 한번에 수정되는 장점 \n",
    "        \n",
    "| HTML 작성 | CSS 작성 |\n",
    "|:---:|:---:|\n",
    "|<태그 속성=\"속성값\"\\> 내용 </태그\\> <br/> ex) <p align=\"center\"\\> 내용 </p\\> | 선택자 {속성:속성값; 속성:속성값;} <br/> ex) p{text-align:center; color:red;} |\n",
    "<br/>\n",
    "\n",
    "\n",
    "* span, div \n",
    "    - <span\\>: 문자열 중 원하는 부분만 선택(inline)해서 시각적 효과 부여 <br/>\n",
    "        ex) <span id=\"이름\"\\> 내용 </span\\> \n",
    "    - <div\\>: 하나 이상의 요소(태그)를 묶어서(block) 스타일 부여  <br/> \n",
    "        참고: http://aboooks.tistory.com/63 \n",
    "<br/>\n",
    "\n",
    "\n",
    "* inline element, block element \n",
    "    - inline element: 줄 속에 끼워 넣는 요소 <br/> \n",
    "        활용: <span\\>, <a\\>, <b\\>, <img\\> 등 \n",
    "    - block element: 묶음요소 <br/> \n",
    "        활용: <div\\>, <p\\>, <ol\\>, <ul\\>, <table\\> 등 \n",
    "            "
   ]
  },
  {
   "cell_type": "markdown",
   "metadata": {},
   "source": [
    "## NAVER 로그인 하기 "
   ]
  },
  {
   "cell_type": "code",
   "execution_count": 17,
   "metadata": {},
   "outputs": [],
   "source": [
    "elem_login = driver.find_element_by_id(\"id\") \n",
    "elem_login.clear()\n",
    "elem_login.send_keys(\"Naver ID\")\n",
    "\n",
    "elem_login = driver.find_element_by_id(\"pw\")\n",
    "elem_login.clear()\n",
    "elem_login.send_keys(\"Naver pw\")"
   ]
  },
  {
   "cell_type": "markdown",
   "metadata": {},
   "source": [
    "* find_element_by_id  대신 find_element_by_xpath 를 활용 가능 \n",
    "* xpath란? \n",
    "    - W3C의 표준으로 XML(Extensible Markup Language) 문서의 구조를 통해 경로(path)위에 지정한 구문을 사용하여 항목을 배치하고 처리하는 방법을 기술하는 언어 "
   ]
  },
  {
   "cell_type": "code",
   "execution_count": null,
   "metadata": {},
   "outputs": [],
   "source": [
    "elem_login2 = driver.find_element_by_xpath('//*[@id=\"id\"]')\n",
    "elem_login2.clear()\n",
    "elem_login2.send_keys('Naver ID_byxpath')"
   ]
  },
  {
   "cell_type": "code",
   "execution_count": 18,
   "metadata": {},
   "outputs": [],
   "source": [
    "driver.find_element_by_xpath(\"\"\"//*[@id=\"frmNIDLogin\"]/fieldset/span/input\"\"\").click()"
   ]
  },
  {
   "cell_type": "markdown",
   "metadata": {},
   "source": [
    "* selenium 의 액션 함수 \n",
    "    - click(): 클릭\n",
    "    - click_and_hold(): 클릭 후 홀드 \n",
    "    - context_click(): 우측클릭\n",
    "    - double_click(): 더블클릭\n",
    "    - drag_and_drop(source, target): source 부터 target 까지 드래그 \n",
    "    - drag_and_drop_by_offset(source, xoffset, yoffset): source 부터 x축, y축으로 각각 이동\n",
    "    - key_down(value, element=None): 키를 누른 상태로 유지 value: modiefier keys(ctrl, alt, shift)\n",
    "    - key_up(value, element=None): 키를 땜 \n",
    "        ex> driver.key_down(Keys.CONTROL).send_keys('c').key_up(Keys.CONTROL).perform()\n",
    "    - move_by_offset(xoffset, yoffset): 마우스 위치를 움직임 \n",
    "    - perform(): 작동 \n",
    "    - release(on_element=None): element 위에 마우스 위치 \n",
    "    - send_keys(blahblah): keyword 입력 \n",
    "    \n",
    "    \n",
    "* 보다 상세한 내용: http://selenium-python.readthedocs.io/api.html#locate-elements-by"
   ]
  },
  {
   "cell_type": "code",
   "execution_count": 19,
   "metadata": {},
   "outputs": [],
   "source": [
    "driver.get(\"https://mail.naver.com\")"
   ]
  },
  {
   "cell_type": "code",
   "execution_count": 22,
   "metadata": {},
   "outputs": [],
   "source": [
    "from bs4 import BeautifulSoup\n",
    "\n",
    "html = driver.page_source\n",
    "soup = BeautifulSoup(html, 'html.parser')"
   ]
  },
  {
   "cell_type": "code",
   "execution_count": 23,
   "metadata": {
    "scrolled": true
   },
   "outputs": [
    {
     "data": {
      "text/plain": [
       "[<div class=\"name _ccr(lst.from) \"><span class=\"blind\">보낸 이:</span><a class=\"_c1(myContextMenu|showSenderContextLayer|list|17309) _stopDefault\" href=\"#\" title='\"네이버\" &lt;help@help.naver.com&gt;'>네이버</a></div>,\n",
       " <div class=\"name _ccr(lst.from) \"><span class=\"blind\">보낸 이:</span><a class=\"_c1(myContextMenu|showSenderContextLayer|list|17308) _stopDefault\" href=\"#\" title=\"&lt;no-reply@hibrain.org&gt;\">no-reply@hibrain.or..</a></div>,\n",
       " <div class=\"name _ccr(lst.from) \"><span class=\"blind\">보낸 이:</span><a class=\"_c1(myContextMenu|showSenderContextLayer|list|17307) _stopDefault\" href=\"#\" title='\"네이버\" &lt;help@help.naver.com&gt;'>네이버</a></div>,\n",
       " <div class=\"name _ccr(lst.from) \"><span class=\"blind\">보낸 이:</span><a class=\"_c1(myContextMenu|showSenderContextLayer|list|17306) _stopDefault\" href=\"#\" title=\"&lt;noreply@avastkorea.com&gt;\">noreply@avastkore..</a></div>,\n",
       " <div class=\"name _ccr(lst.from) \"><span class=\"blind\">보낸 이:</span><a class=\"_c1(myContextMenu|showSenderContextLayer|list|17305) _stopDefault\" href=\"#\" title='\"Meetup\" &lt;info@meetup.com&gt;'>Meetup</a></div>,\n",
       " <div class=\"name _ccr(lst.from) \"><span class=\"blind\">보낸 이:</span><a class=\"_c1(myContextMenu|showSenderContextLayer|list|17304) _stopDefault\" href=\"#\" title='\"eBay\" &lt;eBay@reply.ebay.com.au&gt;'>eBay</a></div>,\n",
       " <div class=\"name _ccr(lst.from) \"><span class=\"blind\">보낸 이:</span><a class=\"_c1(myContextMenu|showSenderContextLayer|list|17302) _stopDefault\" href=\"#\" title='\"통계와조사나라 (SAS/SPSS/R/논문통계/마케팅/통계대학원)\" &lt;navercafe@naver.com&gt;'>통계와조사나라 (SA..</a></div>,\n",
       " <div class=\"name _ccr(lst.from) \"><span class=\"blind\">보낸 이:</span><a class=\"_c1(myContextMenu|showSenderContextLayer|list|17301) _stopDefault\" href=\"#\" title='\"eBay\" &lt;eBay@reply.ebay.com.au&gt;'>eBay</a></div>,\n",
       " <div class=\"name _ccr(lst.from) \"><span class=\"blind\">보낸 이:</span><a class=\"_c1(myContextMenu|showSenderContextLayer|list|17300) _stopDefault\" href=\"#\" title='\"이벤트메일\" &lt;biztoo2@bizn.co.kr&gt;'>이벤트메일</a></div>,\n",
       " <div class=\"name _ccr(lst.from) \"><span class=\"blind\">보낸 이:</span><a class=\"_c1(myContextMenu|showSenderContextLayer|list|17299) _stopDefault\" href=\"#\" title='\"리디북스\" &lt;noreply@ridibooks.com&gt;'>리디북스</a></div>,\n",
       " <div class=\"name _ccr(lst.from) \"><span class=\"blind\">보낸 이:</span><a class=\"_c1(myContextMenu|showSenderContextLayer|list|17298) _stopDefault\" href=\"#\" title='\"리디북스\" &lt;noreply@ridibooks.com&gt;'>리디북스</a></div>,\n",
       " <div class=\"name _ccr(lst.from) \"><span class=\"blind\">보낸 이:</span><a class=\"_c1(myContextMenu|showSenderContextLayer|list|17297) _stopDefault\" href=\"#\" title='\"와디즈 뉴스레터\" &lt;newsletter@wadiz.kr&gt;'>와디즈 뉴스레터</a></div>,\n",
       " <div class=\"name _ccr(lst.from) \"><span class=\"blind\">보낸 이:</span><a class=\"_c1(myContextMenu|showSenderContextLayer|list|17296) _stopDefault\" href=\"#\" title='\"Meetup\" &lt;info@meetup.com&gt;'>Meetup</a></div>,\n",
       " <div class=\"name _ccr(lst.from) \"><span class=\"blind\">보낸 이:</span><a class=\"_c1(myContextMenu|showSenderContextLayer|list|17295) _stopDefault\" href=\"#\" title='\"Meetup\" &lt;info@meetup.com&gt;'>Meetup</a></div>,\n",
       " <div class=\"name _ccr(lst.from) \"><span class=\"blind\">보낸 이:</span><a class=\"_c1(myContextMenu|showSenderContextLayer|list|17294) _stopDefault\" href=\"#\" title='\"ONOFFMIX\" &lt;newsletter@onoffmix.com&gt;'>ONOFFMIX</a></div>]"
      ]
     },
     "execution_count": 23,
     "metadata": {},
     "output_type": "execute_result"
    }
   ],
   "source": [
    "raw_list = soup.find_all('div', 'name _ccr(lst.from) ')\n",
    "raw_list "
   ]
  },
  {
   "cell_type": "code",
   "execution_count": 24,
   "metadata": {},
   "outputs": [
    {
     "data": {
      "text/plain": [
       "['네이버', 'no-reply@hibrain.or..', '네이버', 'noreply@avastkore..']"
      ]
     },
     "execution_count": 24,
     "metadata": {},
     "output_type": "execute_result"
    }
   ],
   "source": [
    "send_list = [raw_list[n].find('a').get_text() for n in range(0, 4)]\n",
    "send_list"
   ]
  },
  {
   "cell_type": "markdown",
   "metadata": {},
   "source": [
    "### 질문: select 함수 이용해서 내용 추출 가능한지?"
   ]
  },
  {
   "cell_type": "code",
   "execution_count": 25,
   "metadata": {
    "scrolled": true
   },
   "outputs": [
    {
     "data": {
      "text/plain": [
       "[<a class=\"_c1(myContextMenu|showSenderContextLayer|list|17309) _stopDefault\" href=\"#\" title='\"네이버\" &lt;help@help.naver.com&gt;'>네이버</a>,\n",
       " <a class=\"_d2(mcDragndrop|html5DragStart)\" draggable=\"true\" href=\"/read/popup/?nMailId=17309\"><span class=\"text _ccr(lst.title) _c1(mrCore|clickTitle|17309) _m2(mrCore|middleClickTitle|17309)\" foldersn=\"\" mailsn=\"17309\"><span class=\"folderName _ccr(lst.title) _c1(mrCore|clickTitle|17309) _m2(mrCore|middleClickTitle|17309)\" foldersn=\"\" mailsn=\"17309\"><span class=\"blind\">에 분류됨</span></span><strong class=\"mail_title _ccr(lst.title) _c1(mrCore|clickTitle|17309) _m2(mrCore|middleClickTitle|17309)\" foldersn=\"\" mailsn=\"17309\"><span class=\"blind\">메일 제목:</span>새로운 기기(브라우저)에서 로그인 되었습니다.</strong></span></a>,\n",
       " <a class=\"icon_previewMail\" href=\"#\" title=\"메일 내용 미리보기\"><span class=\"blind\">메일 내용 미리보기</span></a>,\n",
       " <a class=\"newWindow _ccr(lst.newwindow) _c1(mrCore|popupRead|17309) _m1(mlCore|doStop) _stopDefault\" href=\"#\" title=\"새창으로 메일 보기\"><span class=\"spr\"><em class=\"blind\">새창으로 메일 보기</em></span></a>,\n",
       " <a class=\"_c1(myContextMenu|showSenderContextLayer|list|17308) _stopDefault\" href=\"#\" title=\"&lt;no-reply@hibrain.org&gt;\">no-reply@hibrain.or..</a>,\n",
       " <a class=\"_d2(mcDragndrop|html5DragStart)\" draggable=\"true\" href=\"/read/popup/?nMailId=17308\"><span class=\"text _ccr(lst.title) _c1(mrCore|clickTitle|17308) _m2(mrCore|middleClickTitle|17308)\" foldersn=\"\" mailsn=\"17308\"><span class=\"folderName _ccr(lst.title) _c1(mrCore|clickTitle|17308) _m2(mrCore|middleClickTitle|17308)\" foldersn=\"\" mailsn=\"17308\"><span class=\"blind\">에 분류됨</span></span><strong class=\"mail_title _ccr(lst.title) _c1(mrCore|clickTitle|17308) _m2(mrCore|middleClickTitle|17308)\" foldersn=\"\" mailsn=\"17308\"><span class=\"blind\">메일 제목:</span>[하이브레인넷] 장기 미접속 회원 자동탈퇴 및 개인정보 삭제에 대해 안내드립니다.</strong></span></a>,\n",
       " <a class=\"icon_previewMail\" href=\"#\" title=\"메일 내용 미리보기\"><span class=\"blind\">메일 내용 미리보기</span></a>,\n",
       " <a class=\"newWindow _ccr(lst.newwindow) _c1(mrCore|popupRead|17308) _m1(mlCore|doStop) _stopDefault\" href=\"#\" title=\"새창으로 메일 보기\"><span class=\"spr\"><em class=\"blind\">새창으로 메일 보기</em></span></a>,\n",
       " <a class=\"_c1(myContextMenu|showSenderContextLayer|list|17307) _stopDefault\" href=\"#\" title='\"네이버\" &lt;help@help.naver.com&gt;'>네이버</a>,\n",
       " <a class=\"_d2(mcDragndrop|html5DragStart)\" draggable=\"true\" href=\"/read/popup/?nMailId=17307\"><span class=\"text _ccr(lst.title) _c1(mrCore|clickTitle|17307) _m2(mrCore|middleClickTitle|17307)\" foldersn=\"\" mailsn=\"17307\"><span class=\"folderName _ccr(lst.title) _c1(mrCore|clickTitle|17307) _m2(mrCore|middleClickTitle|17307)\" foldersn=\"\" mailsn=\"17307\"><span class=\"blind\">에 분류됨</span></span><strong class=\"mail_title _ccr(lst.title) _c1(mrCore|clickTitle|17307) _m2(mrCore|middleClickTitle|17307)\" foldersn=\"\" mailsn=\"17307\"><span class=\"blind\">메일 제목:</span>새로운 기기(브라우저)에서 로그인 되었습니다.</strong></span></a>,\n",
       " <a class=\"icon_previewMail\" href=\"#\" title=\"메일 내용 미리보기\"><span class=\"blind\">메일 내용 미리보기</span></a>,\n",
       " <a class=\"newWindow _ccr(lst.newwindow) _c1(mrCore|popupRead|17307) _m1(mlCore|doStop) _stopDefault\" href=\"#\" title=\"새창으로 메일 보기\"><span class=\"spr\"><em class=\"blind\">새창으로 메일 보기</em></span></a>,\n",
       " <a class=\"_c1(myContextMenu|showSenderContextLayer|list|17306) _stopDefault\" href=\"#\" title=\"&lt;noreply@avastkorea.com&gt;\">noreply@avastkore..</a>,\n",
       " <a class=\"_d2(mcDragndrop|html5DragStart)\" draggable=\"true\" href=\"/read/popup/?nMailId=17306\"><span class=\"text _ccr(lst.title) _c1(mrCore|clickTitle|17306) _m2(mrCore|middleClickTitle|17306)\" foldersn=\"\" mailsn=\"17306\"><span class=\"folderName _ccr(lst.title) _c1(mrCore|clickTitle|17306) _m2(mrCore|middleClickTitle|17306)\" foldersn=\"\" mailsn=\"17306\"><span class=\"blind\">에 분류됨</span></span><strong class=\"mail_title _ccr(lst.title) _c1(mrCore|clickTitle|17306) _m2(mrCore|middleClickTitle|17306)\" foldersn=\"\" mailsn=\"17306\"><span class=\"blind\">메일 제목:</span>(광고) Avast  클린업 프리미엄 공급 안내</strong></span></a>,\n",
       " <a class=\"icon_previewMail\" href=\"#\" title=\"메일 내용 미리보기\"><span class=\"blind\">메일 내용 미리보기</span></a>,\n",
       " <a class=\"newWindow _ccr(lst.newwindow) _c1(mrCore|popupRead|17306) _m1(mlCore|doStop) _stopDefault\" href=\"#\" title=\"새창으로 메일 보기\"><span class=\"spr\"><em class=\"blind\">새창으로 메일 보기</em></span></a>,\n",
       " <a class=\"_c1(myContextMenu|showSenderContextLayer|list|17305) _stopDefault\" href=\"#\" title='\"Meetup\" &lt;info@meetup.com&gt;'>Meetup</a>,\n",
       " <a class=\"_d2(mcDragndrop|html5DragStart)\" draggable=\"true\" href=\"/read/popup/?nMailId=17305\"><span class=\"text _ccr(lst.title) _c1(mrCore|clickTitle|17305) _m2(mrCore|middleClickTitle|17305)\" foldersn=\"\" mailsn=\"17305\"><span class=\"folderName _ccr(lst.title) _c1(mrCore|clickTitle|17305) _m2(mrCore|middleClickTitle|17305)\" foldersn=\"\" mailsn=\"17305\"><span class=\"blind\">에 분류됨</span></span><strong class=\"mail_title _ccr(lst.title) _c1(mrCore|clickTitle|17305) _m2(mrCore|middleClickTitle|17305)\" foldersn=\"\" mailsn=\"17305\"><span class=\"blind\">메일 제목:</span>신규 Meetup 그룹: WeWork Labs Euljiro Seoul</strong></span></a>,\n",
       " <a class=\"icon_previewMail\" href=\"#\" title=\"메일 내용 미리보기\"><span class=\"blind\">메일 내용 미리보기</span></a>,\n",
       " <a class=\"newWindow _ccr(lst.newwindow) _c1(mrCore|popupRead|17305) _m1(mlCore|doStop) _stopDefault\" href=\"#\" title=\"새창으로 메일 보기\"><span class=\"spr\"><em class=\"blind\">새창으로 메일 보기</em></span></a>,\n",
       " <a class=\"_c1(myContextMenu|showSenderContextLayer|list|17304) _stopDefault\" href=\"#\" title='\"eBay\" &lt;eBay@reply.ebay.com.au&gt;'>eBay</a>,\n",
       " <a class=\"_d2(mcDragndrop|html5DragStart)\" draggable=\"true\" href=\"/read/popup/?nMailId=17304\"><span class=\"text _ccr(lst.title) _c1(mrCore|clickTitle|17304) _m2(mrCore|middleClickTitle|17304)\" foldersn=\"\" mailsn=\"17304\"><span class=\"folderName _ccr(lst.title) _c1(mrCore|clickTitle|17304) _m2(mrCore|middleClickTitle|17304)\" foldersn=\"\" mailsn=\"17304\"><span class=\"blind\">에 분류됨</span></span><strong class=\"mail_title _ccr(lst.title) _c1(mrCore|clickTitle|17304) _m2(mrCore|middleClickTitle|17304)\" foldersn=\"\" mailsn=\"17304\"><span class=\"blind\">메일 제목:</span>This might make all the difference, Jung! How does 20% off sound?</strong></span></a>,\n",
       " <a class=\"icon_previewMail\" href=\"#\" title=\"메일 내용 미리보기\"><span class=\"blind\">메일 내용 미리보기</span></a>,\n",
       " <a class=\"newWindow _ccr(lst.newwindow) _c1(mrCore|popupRead|17304) _m1(mlCore|doStop) _stopDefault\" href=\"#\" title=\"새창으로 메일 보기\"><span class=\"spr\"><em class=\"blind\">새창으로 메일 보기</em></span></a>,\n",
       " <a class=\"_c1(myContextMenu|showSenderContextLayer|list|17302) _stopDefault\" href=\"#\" title='\"통계와조사나라 (SAS/SPSS/R/논문통계/마케팅/통계대학원)\" &lt;navercafe@naver.com&gt;'>통계와조사나라 (SA..</a>,\n",
       " <a class=\"_d2(mcDragndrop|html5DragStart)\" draggable=\"true\" href=\"/read/popup/?nMailId=17302\"><span class=\"text _ccr(lst.title) _c1(mrCore|clickTitle|17302) _m2(mrCore|middleClickTitle|17302)\" foldersn=\"\" mailsn=\"17302\"><span class=\"folderName _ccr(lst.title) _c1(mrCore|clickTitle|17302) _m2(mrCore|middleClickTitle|17302)\" foldersn=\"\" mailsn=\"17302\"><span class=\"blind\">에 분류됨</span></span><strong class=\"mail_title _ccr(lst.title) _c1(mrCore|clickTitle|17302) _m2(mrCore|middleClickTitle|17302)\" foldersn=\"\" mailsn=\"17302\"><span class=\"blind\">메일 제목:</span>내일(5.23) 파이썬을 주제로 하는 7차 어울림 세미나에 많은 참석 부탁드립니다.</strong></span></a>,\n",
       " <a class=\"icon_previewMail\" href=\"#\" title=\"메일 내용 미리보기\"><span class=\"blind\">메일 내용 미리보기</span></a>,\n",
       " <a class=\"newWindow _ccr(lst.newwindow) _c1(mrCore|popupRead|17302) _m1(mlCore|doStop) _stopDefault\" href=\"#\" title=\"새창으로 메일 보기\"><span class=\"spr\"><em class=\"blind\">새창으로 메일 보기</em></span></a>,\n",
       " <a class=\"_c1(myContextMenu|showSenderContextLayer|list|17301) _stopDefault\" href=\"#\" title='\"eBay\" &lt;eBay@reply.ebay.com.au&gt;'>eBay</a>,\n",
       " <a class=\"_d2(mcDragndrop|html5DragStart)\" draggable=\"true\" href=\"/read/popup/?nMailId=17301\"><span class=\"text _ccr(lst.title) _c1(mrCore|clickTitle|17301) _m2(mrCore|middleClickTitle|17301)\" foldersn=\"\" mailsn=\"17301\"><span class=\"folderName _ccr(lst.title) _c1(mrCore|clickTitle|17301) _m2(mrCore|middleClickTitle|17301)\" foldersn=\"\" mailsn=\"17301\"><span class=\"blind\">에 분류됨</span></span><strong class=\"mail_title _ccr(lst.title) _c1(mrCore|clickTitle|17301) _m2(mrCore|middleClickTitle|17301)\" foldersn=\"\" mailsn=\"17301\"><span class=\"blind\">메일 제목:</span>Get in on the action with eBay auctions!</strong></span></a>,\n",
       " <a class=\"icon_previewMail\" href=\"#\" title=\"메일 내용 미리보기\"><span class=\"blind\">메일 내용 미리보기</span></a>,\n",
       " <a class=\"newWindow _ccr(lst.newwindow) _c1(mrCore|popupRead|17301) _m1(mlCore|doStop) _stopDefault\" href=\"#\" title=\"새창으로 메일 보기\"><span class=\"spr\"><em class=\"blind\">새창으로 메일 보기</em></span></a>,\n",
       " <a class=\"_c1(myContextMenu|showSenderContextLayer|list|17300) _stopDefault\" href=\"#\" title='\"이벤트메일\" &lt;biztoo2@bizn.co.kr&gt;'>이벤트메일</a>,\n",
       " <a class=\"_d2(mcDragndrop|html5DragStart)\" draggable=\"true\" href=\"/read/popup/?nMailId=17300\"><span class=\"text _ccr(lst.title) _c1(mrCore|clickTitle|17300) _m2(mrCore|middleClickTitle|17300)\" foldersn=\"\" mailsn=\"17300\"><span class=\"folderName _ccr(lst.title) _c1(mrCore|clickTitle|17300) _m2(mrCore|middleClickTitle|17300)\" foldersn=\"\" mailsn=\"17300\"><span class=\"blind\">에 분류됨</span></span><strong class=\"mail_title _ccr(lst.title) _c1(mrCore|clickTitle|17300) _m2(mrCore|middleClickTitle|17300)\" foldersn=\"\" mailsn=\"17300\"><span class=\"blind\">메일 제목:</span>(광고) 정상욱 님 혈당관리,혈압,당뇨 한알로 잡는다! 무료체험단 신청하세요~</strong></span></a>,\n",
       " <a class=\"icon_previewMail\" href=\"#\" title=\"메일 내용 미리보기\"><span class=\"blind\">메일 내용 미리보기</span></a>,\n",
       " <a class=\"newWindow _ccr(lst.newwindow) _c1(mrCore|popupRead|17300) _m1(mlCore|doStop) _stopDefault\" href=\"#\" title=\"새창으로 메일 보기\"><span class=\"spr\"><em class=\"blind\">새창으로 메일 보기</em></span></a>,\n",
       " <a class=\"_c1(myContextMenu|showSenderContextLayer|list|17299) _stopDefault\" href=\"#\" title='\"리디북스\" &lt;noreply@ridibooks.com&gt;'>리디북스</a>,\n",
       " <a class=\"_d2(mcDragndrop|html5DragStart)\" draggable=\"true\" href=\"/read/popup/?nMailId=17299\"><span class=\"text _ccr(lst.title) _c1(mrCore|clickTitle|17299) _m2(mrCore|middleClickTitle|17299)\" foldersn=\"\" mailsn=\"17299\"><span class=\"folderName _ccr(lst.title) _c1(mrCore|clickTitle|17299) _m2(mrCore|middleClickTitle|17299)\" foldersn=\"\" mailsn=\"17299\"><span class=\"blind\">에 분류됨</span></span><strong class=\"mail_title _ccr(lst.title) _c1(mrCore|clickTitle|17299) _m2(mrCore|middleClickTitle|17299)\" foldersn=\"\" mailsn=\"17299\"><span class=\"blind\">메일 제목:</span>[리디북스] 정상욱 회원님 결제 내역 안내드립니다 - 콰이어트 Quiet (대여)</strong></span></a>,\n",
       " <a class=\"icon_previewMail\" href=\"#\" title=\"메일 내용 미리보기\"><span class=\"blind\">메일 내용 미리보기</span></a>,\n",
       " <a class=\"newWindow _ccr(lst.newwindow) _c1(mrCore|popupRead|17299) _m1(mlCore|doStop) _stopDefault\" href=\"#\" title=\"새창으로 메일 보기\"><span class=\"spr\"><em class=\"blind\">새창으로 메일 보기</em></span></a>,\n",
       " <a class=\"_c1(myContextMenu|showSenderContextLayer|list|17298) _stopDefault\" href=\"#\" title='\"리디북스\" &lt;noreply@ridibooks.com&gt;'>리디북스</a>,\n",
       " <a class=\"_d2(mcDragndrop|html5DragStart)\" draggable=\"true\" href=\"/read/popup/?nMailId=17298\"><span class=\"text _ccr(lst.title) _c1(mrCore|clickTitle|17298) _m2(mrCore|middleClickTitle|17298)\" foldersn=\"\" mailsn=\"17298\"><span class=\"folderName _ccr(lst.title) _c1(mrCore|clickTitle|17298) _m2(mrCore|middleClickTitle|17298)\" foldersn=\"\" mailsn=\"17298\"><span class=\"blind\">에 분류됨</span></span><strong class=\"mail_title _ccr(lst.title) _c1(mrCore|clickTitle|17298) _m2(mrCore|middleClickTitle|17298)\" foldersn=\"\" mailsn=\"17298\"><span class=\"blind\">메일 제목:</span>[리디북스] 정상욱 회원님 결제 내역 안내드립니다 - 돌이킬 수 없는 약속 (대여)</strong></span></a>,\n",
       " <a class=\"icon_previewMail\" href=\"#\" title=\"메일 내용 미리보기\"><span class=\"blind\">메일 내용 미리보기</span></a>,\n",
       " <a class=\"newWindow _ccr(lst.newwindow) _c1(mrCore|popupRead|17298) _m1(mlCore|doStop) _stopDefault\" href=\"#\" title=\"새창으로 메일 보기\"><span class=\"spr\"><em class=\"blind\">새창으로 메일 보기</em></span></a>,\n",
       " <a class=\"_c1(myContextMenu|showSenderContextLayer|list|17297) _stopDefault\" href=\"#\" title='\"와디즈 뉴스레터\" &lt;newsletter@wadiz.kr&gt;'>와디즈 뉴스레터</a>,\n",
       " <a class=\"_d2(mcDragndrop|html5DragStart)\" draggable=\"true\" href=\"/read/popup/?nMailId=17297\"><span class=\"text _ccr(lst.title) _c1(mrCore|clickTitle|17297) _m2(mrCore|middleClickTitle|17297)\" foldersn=\"\" mailsn=\"17297\"><span class=\"folderName _ccr(lst.title) _c1(mrCore|clickTitle|17297) _m2(mrCore|middleClickTitle|17297)\" foldersn=\"\" mailsn=\"17297\"><span class=\"blind\">에 분류됨</span></span><strong class=\"mail_title _ccr(lst.title) _c1(mrCore|clickTitle|17297) _m2(mrCore|middleClickTitle|17297)\" foldersn=\"\" mailsn=\"17297\"><span class=\"blind\">메일 제목:</span>(광고)5분의 설문조사로 더 나은 투자를 경험해보세요!</strong></span></a>,\n",
       " <a class=\"icon_previewMail\" href=\"#\" title=\"메일 내용 미리보기\"><span class=\"blind\">메일 내용 미리보기</span></a>,\n",
       " <a class=\"newWindow _ccr(lst.newwindow) _c1(mrCore|popupRead|17297) _m1(mlCore|doStop) _stopDefault\" href=\"#\" title=\"새창으로 메일 보기\"><span class=\"spr\"><em class=\"blind\">새창으로 메일 보기</em></span></a>,\n",
       " <a class=\"_c1(myContextMenu|showSenderContextLayer|list|17296) _stopDefault\" href=\"#\" title='\"Meetup\" &lt;info@meetup.com&gt;'>Meetup</a>,\n",
       " <a class=\"_d2(mcDragndrop|html5DragStart)\" draggable=\"true\" href=\"/read/popup/?nMailId=17296\"><span class=\"text _ccr(lst.title) _c1(mrCore|clickTitle|17296) _m2(mrCore|middleClickTitle|17296)\" foldersn=\"\" mailsn=\"17296\"><span class=\"folderName _ccr(lst.title) _c1(mrCore|clickTitle|17296) _m2(mrCore|middleClickTitle|17296)\" foldersn=\"\" mailsn=\"17296\"><span class=\"blind\">에 분류됨</span></span><strong class=\"mail_title _ccr(lst.title) _c1(mrCore|clickTitle|17296) _m2(mrCore|middleClickTitle|17296)\" foldersn=\"\" mailsn=\"17296\"><span class=\"blind\">메일 제목:</span>이번 주의 Meetup: Crypto of Korea Members, StartupBlinkers, Seoul Artificial Intelligence Members, and others</strong></span></a>,\n",
       " <a class=\"icon_previewMail\" href=\"#\" title=\"메일 내용 미리보기\"><span class=\"blind\">메일 내용 미리보기</span></a>,\n",
       " <a class=\"newWindow _ccr(lst.newwindow) _c1(mrCore|popupRead|17296) _m1(mlCore|doStop) _stopDefault\" href=\"#\" title=\"새창으로 메일 보기\"><span class=\"spr\"><em class=\"blind\">새창으로 메일 보기</em></span></a>,\n",
       " <a class=\"_c1(myContextMenu|showSenderContextLayer|list|17295) _stopDefault\" href=\"#\" title='\"Meetup\" &lt;info@meetup.com&gt;'>Meetup</a>,\n",
       " <a class=\"_d2(mcDragndrop|html5DragStart)\" draggable=\"true\" href=\"/read/popup/?nMailId=17295\"><span class=\"text _ccr(lst.title) _c1(mrCore|clickTitle|17295) _m2(mrCore|middleClickTitle|17295)\" foldersn=\"\" mailsn=\"17295\"><span class=\"folderName _ccr(lst.title) _c1(mrCore|clickTitle|17295) _m2(mrCore|middleClickTitle|17295)\" foldersn=\"\" mailsn=\"17295\"><span class=\"blind\">에 분류됨</span></span><strong class=\"mail_title _ccr(lst.title) _c1(mrCore|clickTitle|17295) _m2(mrCore|middleClickTitle|17295)\" foldersn=\"\" mailsn=\"17295\"><span class=\"blind\">메일 제목:</span>신규 Meetup 그룹: Making Quant System</strong></span></a>,\n",
       " <a class=\"icon_previewMail\" href=\"#\" title=\"메일 내용 미리보기\"><span class=\"blind\">메일 내용 미리보기</span></a>,\n",
       " <a class=\"newWindow _ccr(lst.newwindow) _c1(mrCore|popupRead|17295) _m1(mlCore|doStop) _stopDefault\" href=\"#\" title=\"새창으로 메일 보기\"><span class=\"spr\"><em class=\"blind\">새창으로 메일 보기</em></span></a>,\n",
       " <a class=\"_c1(myContextMenu|showSenderContextLayer|list|17294) _stopDefault\" href=\"#\" title='\"ONOFFMIX\" &lt;newsletter@onoffmix.com&gt;'>ONOFFMIX</a>,\n",
       " <a class=\"_d2(mcDragndrop|html5DragStart)\" draggable=\"true\" href=\"/read/popup/?nMailId=17294\"><span class=\"text _ccr(lst.title) _c1(mrCore|clickTitle|17294) _m2(mrCore|middleClickTitle|17294)\" foldersn=\"\" mailsn=\"17294\"><span class=\"folderName _ccr(lst.title) _c1(mrCore|clickTitle|17294) _m2(mrCore|middleClickTitle|17294)\" foldersn=\"\" mailsn=\"17294\"><span class=\"blind\">에 분류됨</span></span><strong class=\"mail_title _ccr(lst.title) _c1(mrCore|clickTitle|17294) _m2(mrCore|middleClickTitle|17294)\" foldersn=\"\" mailsn=\"17294\"><span class=\"blind\">메일 제목:</span>(광고)[온오프믹스 뉴스] '나'를 아끼는 현명한 습관, 5월 세번째 모임 소식!!\t</strong></span></a>,\n",
       " <a class=\"icon_previewMail\" href=\"#\" title=\"메일 내용 미리보기\"><span class=\"blind\">메일 내용 미리보기</span></a>,\n",
       " <a class=\"newWindow _ccr(lst.newwindow) _c1(mrCore|popupRead|17294) _m1(mlCore|doStop) _stopDefault\" href=\"#\" title=\"새창으로 메일 보기\"><span class=\"spr\"><em class=\"blind\">새창으로 메일 보기</em></span></a>]"
      ]
     },
     "execution_count": 25,
     "metadata": {},
     "output_type": "execute_result"
    }
   ],
   "source": [
    "soup.select('#list_for_view > ol > li > div > div > a')\n",
    "\n",
    "# selector 복사 \n",
    "\n",
    "#list_for_view > ol > li.\\31 7306_li.notRead.unmark._c1\\28 mrCore\\7c clickTitle\\7c 17306\\29._d2\\28 mcDragndrop\\7c html5DragStart\\29 > div > div.name._ccr\\28 lst\\2e from\\29 > a\n",
    "#list_for_view > ol > li.\\31 7307_li.notRead.unmark._c1\\28 mrCore\\7c clickTitle\\7c 17307\\29._d2\\28 mcDragndrop\\7c html5DragStart\\29 > div > div.name._ccr\\28 lst\\2e from\\29 > a"
   ]
  },
  {
   "cell_type": "code",
   "execution_count": 97,
   "metadata": {},
   "outputs": [
    {
     "data": {
      "text/plain": [
       "[]"
      ]
     },
     "execution_count": 97,
     "metadata": {},
     "output_type": "execute_result"
    }
   ],
   "source": [
    "soup.select(\"#list_for_view > ol > li > div > div > a.'_c1*'\")"
   ]
  },
  {
   "cell_type": "code",
   "execution_count": 49,
   "metadata": {},
   "outputs": [],
   "source": [
    "driver.close()"
   ]
  },
  {
   "cell_type": "markdown",
   "metadata": {},
   "source": [
    "# 4-2 서울시 구별 주유소 가격 정보 얻기\n",
    "* 목표: opinet.com 에서 서울시 구별 주유소 정보 크롤링 "
   ]
  },
  {
   "cell_type": "code",
   "execution_count": 26,
   "metadata": {},
   "outputs": [],
   "source": [
    "driver = webdriver.Chrome('../4-1. selenium_opinet/chromedriver_win32/chromedriver.exe')"
   ]
  },
  {
   "cell_type": "code",
   "execution_count": 56,
   "metadata": {},
   "outputs": [],
   "source": [
    "driver.get('http://www.opinet.co.kr/searRgSelect.do')"
   ]
  },
  {
   "cell_type": "code",
   "execution_count": 100,
   "metadata": {},
   "outputs": [
    {
     "data": {
      "text/plain": [
       "[<selenium.webdriver.remote.webelement.WebElement (session=\"8ae870d7edbf6ddc50a5f4b9ffbcb116\", element=\"0.6523979114088887-3\")>,\n",
       " <selenium.webdriver.remote.webelement.WebElement (session=\"8ae870d7edbf6ddc50a5f4b9ffbcb116\", element=\"0.6523979114088887-4\")>,\n",
       " <selenium.webdriver.remote.webelement.WebElement (session=\"8ae870d7edbf6ddc50a5f4b9ffbcb116\", element=\"0.6523979114088887-5\")>,\n",
       " <selenium.webdriver.remote.webelement.WebElement (session=\"8ae870d7edbf6ddc50a5f4b9ffbcb116\", element=\"0.6523979114088887-6\")>,\n",
       " <selenium.webdriver.remote.webelement.WebElement (session=\"8ae870d7edbf6ddc50a5f4b9ffbcb116\", element=\"0.6523979114088887-7\")>,\n",
       " <selenium.webdriver.remote.webelement.WebElement (session=\"8ae870d7edbf6ddc50a5f4b9ffbcb116\", element=\"0.6523979114088887-8\")>,\n",
       " <selenium.webdriver.remote.webelement.WebElement (session=\"8ae870d7edbf6ddc50a5f4b9ffbcb116\", element=\"0.6523979114088887-9\")>,\n",
       " <selenium.webdriver.remote.webelement.WebElement (session=\"8ae870d7edbf6ddc50a5f4b9ffbcb116\", element=\"0.6523979114088887-10\")>,\n",
       " <selenium.webdriver.remote.webelement.WebElement (session=\"8ae870d7edbf6ddc50a5f4b9ffbcb116\", element=\"0.6523979114088887-11\")>,\n",
       " <selenium.webdriver.remote.webelement.WebElement (session=\"8ae870d7edbf6ddc50a5f4b9ffbcb116\", element=\"0.6523979114088887-12\")>,\n",
       " <selenium.webdriver.remote.webelement.WebElement (session=\"8ae870d7edbf6ddc50a5f4b9ffbcb116\", element=\"0.6523979114088887-13\")>,\n",
       " <selenium.webdriver.remote.webelement.WebElement (session=\"8ae870d7edbf6ddc50a5f4b9ffbcb116\", element=\"0.6523979114088887-14\")>,\n",
       " <selenium.webdriver.remote.webelement.WebElement (session=\"8ae870d7edbf6ddc50a5f4b9ffbcb116\", element=\"0.6523979114088887-15\")>,\n",
       " <selenium.webdriver.remote.webelement.WebElement (session=\"8ae870d7edbf6ddc50a5f4b9ffbcb116\", element=\"0.6523979114088887-16\")>,\n",
       " <selenium.webdriver.remote.webelement.WebElement (session=\"8ae870d7edbf6ddc50a5f4b9ffbcb116\", element=\"0.6523979114088887-17\")>,\n",
       " <selenium.webdriver.remote.webelement.WebElement (session=\"8ae870d7edbf6ddc50a5f4b9ffbcb116\", element=\"0.6523979114088887-18\")>,\n",
       " <selenium.webdriver.remote.webelement.WebElement (session=\"8ae870d7edbf6ddc50a5f4b9ffbcb116\", element=\"0.6523979114088887-19\")>,\n",
       " <selenium.webdriver.remote.webelement.WebElement (session=\"8ae870d7edbf6ddc50a5f4b9ffbcb116\", element=\"0.6523979114088887-20\")>,\n",
       " <selenium.webdriver.remote.webelement.WebElement (session=\"8ae870d7edbf6ddc50a5f4b9ffbcb116\", element=\"0.6523979114088887-21\")>,\n",
       " <selenium.webdriver.remote.webelement.WebElement (session=\"8ae870d7edbf6ddc50a5f4b9ffbcb116\", element=\"0.6523979114088887-22\")>,\n",
       " <selenium.webdriver.remote.webelement.WebElement (session=\"8ae870d7edbf6ddc50a5f4b9ffbcb116\", element=\"0.6523979114088887-23\")>,\n",
       " <selenium.webdriver.remote.webelement.WebElement (session=\"8ae870d7edbf6ddc50a5f4b9ffbcb116\", element=\"0.6523979114088887-24\")>,\n",
       " <selenium.webdriver.remote.webelement.WebElement (session=\"8ae870d7edbf6ddc50a5f4b9ffbcb116\", element=\"0.6523979114088887-25\")>,\n",
       " <selenium.webdriver.remote.webelement.WebElement (session=\"8ae870d7edbf6ddc50a5f4b9ffbcb116\", element=\"0.6523979114088887-26\")>,\n",
       " <selenium.webdriver.remote.webelement.WebElement (session=\"8ae870d7edbf6ddc50a5f4b9ffbcb116\", element=\"0.6523979114088887-27\")>,\n",
       " <selenium.webdriver.remote.webelement.WebElement (session=\"8ae870d7edbf6ddc50a5f4b9ffbcb116\", element=\"0.6523979114088887-28\")>]"
      ]
     },
     "execution_count": 100,
     "metadata": {},
     "output_type": "execute_result"
    }
   ],
   "source": [
    "gu_list_raw = driver.find_element_by_xpath('//*[@id=\"SIGUNGU_NM0\"]')\n",
    "gu_list = gu_list_raw.find_elements_by_tag_name(\"option\")\n",
    "gu_list"
   ]
  },
  {
   "cell_type": "markdown",
   "metadata": {},
   "source": [
    "* selenium 의 find_element_by_ 와 beautifulsoup 의 find, find_all 사이의 차이점 \n",
    "    - beautifulsoup 의 find, find_all 의 경우 해당 태그 자체의 결과를 가져옴 \n",
    "        - ex> find('a') 일 경우 __<a href=\"#\"\\> 예시 </a\\>__ 와 같은 결과를 가져옴 \n",
    "    - selenium 의 결과는 위와 같은 결과가 나오기 때문에 반드시 내부 텍스트 데이터를 가져와야 함 \n",
    "        - gu_list[3].get_attribute('value')\n",
    "        - gu_list[3].text"
   ]
  },
  {
   "cell_type": "code",
   "execution_count": 106,
   "metadata": {},
   "outputs": [
    {
     "data": {
      "text/plain": [
       "'강북구'"
      ]
     },
     "execution_count": 106,
     "metadata": {},
     "output_type": "execute_result"
    }
   ],
   "source": [
    "gu_list[3].text"
   ]
  },
  {
   "cell_type": "code",
   "execution_count": 107,
   "metadata": {},
   "outputs": [
    {
     "data": {
      "text/plain": [
       "'강북구'"
      ]
     },
     "execution_count": 107,
     "metadata": {},
     "output_type": "execute_result"
    }
   ],
   "source": [
    "gu_list[3].get_attribute('value')"
   ]
  },
  {
   "cell_type": "code",
   "execution_count": 78,
   "metadata": {},
   "outputs": [
    {
     "data": {
      "text/plain": [
       "['강남구',\n",
       " '강동구',\n",
       " '강북구',\n",
       " '강서구',\n",
       " '관악구',\n",
       " '광진구',\n",
       " '구로구',\n",
       " '금천구',\n",
       " '노원구',\n",
       " '도봉구',\n",
       " '동대문구',\n",
       " '동작구',\n",
       " '마포구',\n",
       " '서대문구',\n",
       " '서초구',\n",
       " '성동구',\n",
       " '성북구',\n",
       " '송파구',\n",
       " '양천구',\n",
       " '영등포구',\n",
       " '용산구',\n",
       " '은평구',\n",
       " '종로구',\n",
       " '중구',\n",
       " '중랑구']"
      ]
     },
     "execution_count": 78,
     "metadata": {},
     "output_type": "execute_result"
    }
   ],
   "source": [
    "gu_names = [option.get_attribute('value') for option in gu_list]\n",
    "gu_names.remove('')\n",
    "gu_names"
   ]
  },
  {
   "cell_type": "code",
   "execution_count": 79,
   "metadata": {},
   "outputs": [],
   "source": [
    "gu_list_raw.send_keys(gu_names[5])"
   ]
  },
  {
   "cell_type": "code",
   "execution_count": 85,
   "metadata": {},
   "outputs": [],
   "source": [
    "driver.find_element_by_xpath('//*[@id=\"searRgSelect\"]/span').click()"
   ]
  },
  {
   "cell_type": "code",
   "execution_count": 86,
   "metadata": {},
   "outputs": [],
   "source": [
    "driver.find_element_by_xpath('//*[@id=\"glopopd_excel\"]/span').click()"
   ]
  },
  {
   "cell_type": "code",
   "execution_count": 108,
   "metadata": {},
   "outputs": [],
   "source": [
    "import time \n",
    "from tqdm import tqdm_notebook "
   ]
  },
  {
   "cell_type": "code",
   "execution_count": 94,
   "metadata": {},
   "outputs": [
    {
     "data": {
      "application/vnd.jupyter.widget-view+json": {
       "model_id": "61a63b62b9a04036a0728ef17d831f6a",
       "version_major": 2,
       "version_minor": 0
      },
      "text/plain": [
       "HBox(children=(IntProgress(value=0, max=5), HTML(value='')))"
      ]
     },
     "metadata": {},
     "output_type": "display_data"
    },
    {
     "name": "stdout",
     "output_type": "stream",
     "text": [
      "\n",
      "\n"
     ]
    }
   ],
   "source": [
    "for gu in tqdm_notebook(gu_names[0:5]):\n",
    "    element = driver.find_element_by_xpath('//*[@id=\"SIGUNGU_NM0\"]')\n",
    "    element.send_keys(gu) \n",
    "    \n",
    "    time.sleep(5)\n",
    "    \n",
    "    driver.find_element_by_xpath('//*[@id=\"glopopd_excel\"]/span').click()\n",
    "    \n",
    "    time.sleep(3)"
   ]
  },
  {
   "cell_type": "code",
   "execution_count": 95,
   "metadata": {},
   "outputs": [
    {
     "data": {
      "text/plain": [
       "['강남구', '강동구', '강북구', '강서구', '관악구']"
      ]
     },
     "execution_count": 95,
     "metadata": {},
     "output_type": "execute_result"
    }
   ],
   "source": [
    "gu_names[0:5]"
   ]
  }
 ],
 "metadata": {
  "kernelspec": {
   "display_name": "Python 3",
   "language": "python",
   "name": "python3"
  },
  "language_info": {
   "codemirror_mode": {
    "name": "ipython",
    "version": 3
   },
   "file_extension": ".py",
   "mimetype": "text/x-python",
   "name": "python",
   "nbconvert_exporter": "python",
   "pygments_lexer": "ipython3",
   "version": "3.6.5"
  }
 },
 "nbformat": 4,
 "nbformat_minor": 2
}
